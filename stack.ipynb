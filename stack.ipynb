{
  "nbformat": 4,
  "nbformat_minor": 0,
  "metadata": {
    "colab": {
      "provenance": [],
      "authorship_tag": "ABX9TyNuoljVGei87k6bDQ/gCtJe",
      "include_colab_link": true
    },
    "kernelspec": {
      "name": "python3",
      "display_name": "Python 3"
    },
    "language_info": {
      "name": "python"
    }
  },
  "cells": [
    {
      "cell_type": "markdown",
      "metadata": {
        "id": "view-in-github",
        "colab_type": "text"
      },
      "source": [
        "<a href=\"https://colab.research.google.com/github/FebrisaAdelitha/TGS-Pertemuan-ke-5/blob/main/stack.ipynb\" target=\"_parent\"><img src=\"https://colab.research.google.com/assets/colab-badge.svg\" alt=\"Open In Colab\"/></a>"
      ]
    },
    {
      "cell_type": "code",
      "execution_count": null,
      "metadata": {
        "colab": {
          "base_uri": "https://localhost:8080/"
        },
        "id": "M3VSVxskl09N",
        "outputId": "d003e11c-0261-42d0-e9ec-793f28d1b1e5"
      },
      "outputs": [
        {
          "output_type": "stream",
          "name": "stdout",
          "text": [
            "2\n",
            "1\n",
            "[]\n"
          ]
        }
      ],
      "source": [
        "stack = []\n",
        "stack.append (1) # menambah data 1\n",
        "stack.append (2) # menambah data 2\n",
        "print(stack.pop()) # menghapus dan menampilkan 2\n",
        "print(stack.pop()) # menghapus dan menampilkan 1\n",
        "print(stack) # menampilkan isi stack\n",
        "\n",
        "def is_empty (stack):\n",
        "    return len(stack) == 0\n",
        "def tambah_isi(stack,isi):\n",
        "  if len(stack) >= 3:\n",
        "   print (\"stack penuh\")\n",
        "  else:\n",
        "    stack.append(isi)\n",
        "\n",
        "def delete_isi (stack):\n",
        "  if is_empty(stack):\n",
        "    print(\"Stack sudah kosong\")\n",
        "  else:\n",
        "    data = stack.pop()\n",
        "    print(\"Data yang dihapus: \",data)"
      ]
    },
    {
      "cell_type": "code",
      "source": [],
      "metadata": {
        "id": "V8BmicwJmlsC"
      },
      "execution_count": null,
      "outputs": []
    }
  ]
}